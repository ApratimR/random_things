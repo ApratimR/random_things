{
 "cells": [
  {
   "cell_type": "markdown",
   "metadata": {},
   "source": [
    "### this is a type of logistic regression algo \n",
    "### with variable slope instead of using 'e' as the main power for slope"
   ]
  },
  {
   "cell_type": "code",
   "execution_count": null,
   "metadata": {},
   "outputs": [],
   "source": [
    "import pandas as pd\n",
    "import numpy as np\n",
    "import matplotlib.pyplot as plt\n",
    "import os\n"
   ]
  },
  {
   "cell_type": "code",
   "execution_count": null,
   "metadata": {},
   "outputs": [],
   "source": [
    "print(\"reading data\")\n",
    "\n",
    "dirname = os.getcwd()+\"\\\\test.csv\"\n",
    "\n",
    "inde_data = pd.read_csv(dirname,usecols=[\"x\"]).to_numpy()\n",
    "dep_data = pd.read_csv(dirname,usecols=[\"y\"]).to_numpy()\n",
    "\n",
    "print(\"reading complet\")\n",
    "\n",
    "inde_data = np.reshape(inde_data,(len(inde_data)))\n",
    "dep_data = np.reshape(dep_data,(len(dep_data)))"
   ]
  },
  {
   "cell_type": "code",
   "execution_count": null,
   "metadata": {},
   "outputs": [],
   "source": [
    "#random initilization position\n",
    "pos=1.1\n",
    "power=1.1"
   ]
  },
  {
   "cell_type": "code",
   "execution_count": null,
   "metadata": {},
   "outputs": [],
   "source": [
    "#the pesudo_logistic function\n",
    "def power(parameter1,parameter2):\n",
    "    return (1/(1+parameter2**(-parameter1)))"
   ]
  },
  {
   "cell_type": "code",
   "execution_count": null,
   "metadata": {},
   "outputs": [],
   "source": [
    "def total_cost_calc(inde_data,dep_data,pos,power):\n",
    "    total_cost = 0\n",
    "    for temp1 in range(len(inde_data)):\n",
    "        #subtracted and entered into the log function here------↓\n",
    "        total_cost += (dep_data[temp1]-power(inde_data[temp1]-pos,power))**2\n",
    "    return total_cost"
   ]
  },
  {
   "cell_type": "code",
   "execution_count": null,
   "metadata": {},
   "outputs": [],
   "source": [
    "def pos_adjuster(inde_data,dep_data,pos,power,step_size):\n",
    "    temp1 = total_cost_calc(inde_data,dep_data,pos-step_size,power+step_size)\n",
    "    temp2 = total_cost_calc(inde_data,dep_data,pos-step_size,power-step_size)\n",
    "    temp3 = total_cost_calc(inde_data,dep_data,pos-step_size,power)\n",
    "    temp4 = total_cost_calc(inde_data,dep_data,pos+step_size,power)\n",
    "    temp5 = total_cost_calc(inde_data,dep_data,pos+step_size,power+step_size)\n",
    "    temp6 = total_cost_calc(inde_data,dep_data,pos+step_size,power-step_size)\n",
    "    temp7 = total_cost_calc(inde_data,dep_data,pos,power+step_size)\n",
    "    temp8 = total_cost_calc(inde_data,dep_data,pos,power-step_size)\n",
    "\n",
    "    comp_array = [temp1,temp2,temp3,temp4,temp5,temp6,temp7,temp8]\n",
    "\n",
    "    min_pos = comp_array.index(min(comp_array))\n",
    "\n",
    "    if min_pos == 0:\n",
    "        pos -= step_size\n",
    "        power += step_size\n",
    "\n",
    "    elif min_pos == 1:\n",
    "        pos -= step_size\n",
    "        power -= step_size\n",
    "\n",
    "    elif min_pos == 2:\n",
    "        pos -= step_size\n",
    "\n",
    "    elif min_pos == 3:\n",
    "        pos += step_size\n",
    "\n",
    "    elif min_pos == 4:\n",
    "        pos += step_size\n",
    "        power += step_size\n",
    "\n",
    "    elif min_pos == 5:\n",
    "        pos += step_size\n",
    "        power -= step_size\n",
    "    \n",
    "    elif min_pos == 6:\n",
    "        power += step_size\n",
    "    \n",
    "    elif min_pos == 7:\n",
    "        power -= step_size\n",
    "    \n",
    "\n",
    "\n",
    "    return pos,power"
   ]
  },
  {
   "cell_type": "code",
   "execution_count": null,
   "metadata": {},
   "outputs": [],
   "source": [
    "#some other constants\n",
    "step_size = 1\n",
    "step_size_decider_constant = 0\n",
    "pos_nochange_array = [0]*3"
   ]
  },
  {
   "cell_type": "code",
   "execution_count": null,
   "metadata": {},
   "outputs": [],
   "source": [
    "def step_size_decider(parameter1):\n",
    "    global step_size\n",
    "    global step_size_decider_constant\n",
    "    global pos_nochange_array\n",
    "\n",
    "    step_size_decider_constant = (step_size_decider_constant + 1) % 3\n",
    "    pos_nochange_array[step_size_decider_constant] = parameter1\n",
    "\n",
    "    if pos_nochange_array[0]==pos_nochange_array[2]:\n",
    "        step_size = step_size*0.5\n",
    "    ## 0.5 is the dynamic change rate"
   ]
  },
  {
   "cell_type": "code",
   "execution_count": null,
   "metadata": {
    "tags": [
     "outputPrepend",
     "outputPrepend",
     "outputPrepend",
     "outputPrepend",
     "outputPrepend",
     "outputPrepend",
     "outputPrepend",
     "outputPrepend",
     "outputPrepend",
     "outputPrepend"
    ]
   },
   "outputs": [],
   "source": [
    "# matplotlib stuff\n",
    "x = np.array(range(30))\n",
    "\n",
    "for temp1 in range(1000):\n",
    "    pos,power = pos_adjuster(inde_data,dep_data,pos,power,step_size)\n",
    "    #print(pos,step_size,power)\n",
    "    y = power(x-pos,power)\n",
    "    plt.plot(x,y)\n",
    "    step_size_decider(pos+power)\n",
    "\n",
    "print(\"threshold is at \",pos,\"and step size is = \",step_size,\". power constant is\",power)\n",
    "plt.plot(inde_data,dep_data,\"ro\")\n",
    "plt.show()"
   ]
  }
 ],
 "metadata": {
  "language_info": {
   "codemirror_mode": {
    "name": "ipython",
    "version": 3
   },
   "file_extension": ".py",
   "mimetype": "text/x-python",
   "name": "python",
   "nbconvert_exporter": "python",
   "pygments_lexer": "ipython3",
   "version": "3.8.3-final"
  },
  "orig_nbformat": 2,
  "kernelspec": {
   "name": "python3",
   "display_name": "Python 3"
  }
 },
 "nbformat": 4,
 "nbformat_minor": 2
}