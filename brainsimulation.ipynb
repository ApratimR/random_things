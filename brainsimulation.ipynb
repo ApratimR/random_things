{
 "cells": [
  {
   "cell_type": "code",
   "execution_count": 2,
   "metadata": {},
   "outputs": [],
   "source": [
    "import numpy as np"
   ]
  },
  {
   "cell_type": "code",
   "execution_count": 3,
   "metadata": {},
   "outputs": [
    {
     "output_type": "stream",
     "name": "stdout",
     "text": "[[0.68143043 0.82195796]\n [0.82951674 0.74024314]]\n"
    }
   ],
   "source": [
    "brain_cell = np.random.rand(2,2)\n",
    "print(brain_cell)"
   ]
  },
  {
   "cell_type": "code",
   "execution_count": 4,
   "metadata": {},
   "outputs": [
    {
     "output_type": "stream",
     "name": "stdout",
     "text": "[[[0.75161437 0.60977504 0.541109   0.33960174]\n  [0.17282579 0.69478837 0.37419358 0.12861478]]\n\n [[0.5262179  0.87067886 0.3919037  0.75532026]\n  [0.28113245 0.01574896 0.80516226 0.97610443]]]\n"
    }
   ],
   "source": [
    "brain_connection = np.random.rand(2,2,4)# f is for the connection\n",
    "print(brain_connection)"
   ]
  },
  {
   "cell_type": "code",
   "execution_count": 5,
   "metadata": {},
   "outputs": [],
   "source": [
    "def compress(total_sum,inputnodecount):\n",
    "    actual_val = total_sum/inputnodecount\n",
    "    return actual_val"
   ]
  },
  {
   "cell_type": "code",
   "execution_count": 6,
   "metadata": {},
   "outputs": [],
   "source": [
    "def connector(input_weights,adjust_amount):\n",
    "    output = sum(input_weights)\n",
    "\n",
    "    output = compress(output,len(input_weights))\n",
    "\n",
    "    if output>adjust_amount :\n",
    "        return adjust_amount\n",
    "    else:\n",
    "        return 0\n",
    "        "
   ]
  },
  {
   "cell_type": "code",
   "execution_count": null,
   "metadata": {},
   "outputs": [],
   "source": []
  }
 ],
 "metadata": {
  "language_info": {
   "codemirror_mode": {
    "name": "ipython",
    "version": 3
   },
   "file_extension": ".py",
   "mimetype": "text/x-python",
   "name": "python",
   "nbconvert_exporter": "python",
   "pygments_lexer": "ipython3",
   "version": "3.8.3-final"
  },
  "orig_nbformat": 2,
  "kernelspec": {
   "name": "python3",
   "display_name": "Python 3"
  }
 },
 "nbformat": 4,
 "nbformat_minor": 2
}